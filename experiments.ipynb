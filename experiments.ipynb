{
 "cells": [
  {
   "cell_type": "markdown",
   "id": "utility-narrow",
   "metadata": {},
   "source": [
    "# IF5200 - Modeling Notebook\n",
    "___\n",
    "Group: 8<br>\n",
    "Project: Automated Chest X-Ray Report Generator in Bahasa Indonesia with the Use of Deep Learning<br>\n",
    "Team members: Arief Purnama Muharram, Hollyana Puteri Haryono, Abassi Haji Juma"
   ]
  },
  {
   "cell_type": "markdown",
   "id": "female-forth",
   "metadata": {},
   "source": [
    "Last update: April 4th, 2023"
   ]
  },
  {
   "cell_type": "markdown",
   "id": "prepared-switch",
   "metadata": {},
   "source": [
    "## A. Print library version"
   ]
  },
  {
   "cell_type": "code",
   "execution_count": 1,
   "id": "exempt-burst",
   "metadata": {},
   "outputs": [
    {
     "name": "stdout",
     "output_type": "stream",
     "text": [
      "tqdm version: 4.64.1\n",
      "matplotlib version: 3.5.3\n",
      "seaborn version: 0.12.2\n",
      "pandas version: 1.3.5\n",
      "scikit-learn version: 1.0.2\n",
      "imblearn version: 0.10.1\n",
      "pillow version: 9.4.0\n",
      "torch version: 1.13.1+cu117\n",
      "torchvision version: 0.14.1+cu117\n"
     ]
    }
   ],
   "source": [
    "print('tqdm version:', __import__('tqdm').__version__)\n",
    "print('matplotlib version:', __import__('matplotlib').__version__)\n",
    "print('seaborn version:', __import__('seaborn').__version__)\n",
    "print('pandas version:', __import__('pandas').__version__)\n",
    "print('scikit-learn version:', __import__('sklearn').__version__)\n",
    "print('imblearn version:', __import__('imblearn').__version__)\n",
    "print('pillow version:', __import__('PIL').__version__)\n",
    "print('torch version:', __import__('torch').__version__)\n",
    "print('torchvision version:', __import__('torchvision').__version__)"
   ]
  },
  {
   "cell_type": "markdown",
   "id": "copyrighted-desktop",
   "metadata": {},
   "source": [
    "## B. Load all helpers"
   ]
  },
  {
   "cell_type": "code",
   "execution_count": 2,
   "id": "martial-weekly",
   "metadata": {},
   "outputs": [],
   "source": [
    "from src.train.utils.dataloader import CustomDataLoader\n",
    "from src.train.utils.train import TrainUtils\n",
    "from src.train.utils.model import build_model\n",
    "\n",
    "from src.train.trainer import train_wrapper"
   ]
  },
  {
   "cell_type": "markdown",
   "id": "mechanical-receipt",
   "metadata": {},
   "source": [
    "## C. Load dataset"
   ]
  },
  {
   "cell_type": "code",
   "execution_count": 3,
   "id": "reverse-puppy",
   "metadata": {},
   "outputs": [
    {
     "name": "stdout",
     "output_type": "stream",
     "text": [
      "<class 'pandas.core.frame.DataFrame'>\n",
      "RangeIndex: 112120 entries, 0 to 112119\n",
      "Data columns (total 18 columns):\n",
      " #   Column              Non-Null Count   Dtype \n",
      "---  ------              --------------   ----- \n",
      " 0   Image Index         112120 non-null  object\n",
      " 1   Filename_Segment1   112120 non-null  object\n",
      " 2   Filename_Segment2   112120 non-null  object\n",
      " 3   Filename_Segment3   112120 non-null  object\n",
      " 4   Atelectasis         112120 non-null  int64 \n",
      " 5   Cardiomegaly        112120 non-null  int64 \n",
      " 6   Effusion            112120 non-null  int64 \n",
      " 7   Infiltration        112120 non-null  int64 \n",
      " 8   Mass                112120 non-null  int64 \n",
      " 9   Nodule              112120 non-null  int64 \n",
      " 10  Pneumonia           112120 non-null  int64 \n",
      " 11  Pneumothorax        112120 non-null  int64 \n",
      " 12  Consolidation       112120 non-null  int64 \n",
      " 13  Edema               112120 non-null  int64 \n",
      " 14  Emphysema           112120 non-null  int64 \n",
      " 15  Fibrosis            112120 non-null  int64 \n",
      " 16  Pleural_Thickening  112120 non-null  int64 \n",
      " 17  Hernia              112120 non-null  int64 \n",
      "dtypes: int64(14), object(4)\n",
      "memory usage: 15.4+ MB\n"
     ]
    }
   ],
   "source": [
    "import pandas as pd\n",
    "\n",
    "\n",
    "df = pd.read_csv('datasets/labels_cxr-images.csv', sep=',')\n",
    "df.info()"
   ]
  },
  {
   "cell_type": "code",
   "execution_count": 4,
   "id": "relevant-weekly",
   "metadata": {},
   "outputs": [
    {
     "data": {
      "text/html": [
       "<div>\n",
       "<style scoped>\n",
       "    .dataframe tbody tr th:only-of-type {\n",
       "        vertical-align: middle;\n",
       "    }\n",
       "\n",
       "    .dataframe tbody tr th {\n",
       "        vertical-align: top;\n",
       "    }\n",
       "\n",
       "    .dataframe thead th {\n",
       "        text-align: right;\n",
       "    }\n",
       "</style>\n",
       "<table border=\"1\" class=\"dataframe\">\n",
       "  <thead>\n",
       "    <tr style=\"text-align: right;\">\n",
       "      <th></th>\n",
       "      <th>Image Index</th>\n",
       "      <th>Filename_Segment1</th>\n",
       "      <th>Filename_Segment2</th>\n",
       "      <th>Filename_Segment3</th>\n",
       "      <th>Atelectasis</th>\n",
       "      <th>Cardiomegaly</th>\n",
       "      <th>Effusion</th>\n",
       "      <th>Infiltration</th>\n",
       "      <th>Mass</th>\n",
       "      <th>Nodule</th>\n",
       "      <th>Pneumonia</th>\n",
       "      <th>Pneumothorax</th>\n",
       "      <th>Consolidation</th>\n",
       "      <th>Edema</th>\n",
       "      <th>Emphysema</th>\n",
       "      <th>Fibrosis</th>\n",
       "      <th>Pleural_Thickening</th>\n",
       "      <th>Hernia</th>\n",
       "    </tr>\n",
       "  </thead>\n",
       "  <tbody>\n",
       "    <tr>\n",
       "      <th>0</th>\n",
       "      <td>00000001_000.png</td>\n",
       "      <td>00000001_000_segment1.png</td>\n",
       "      <td>00000001_000_segment2.png</td>\n",
       "      <td>00000001_000_segment3.png</td>\n",
       "      <td>0</td>\n",
       "      <td>1</td>\n",
       "      <td>0</td>\n",
       "      <td>0</td>\n",
       "      <td>0</td>\n",
       "      <td>0</td>\n",
       "      <td>0</td>\n",
       "      <td>0</td>\n",
       "      <td>0</td>\n",
       "      <td>0</td>\n",
       "      <td>0</td>\n",
       "      <td>0</td>\n",
       "      <td>0</td>\n",
       "      <td>0</td>\n",
       "    </tr>\n",
       "    <tr>\n",
       "      <th>1</th>\n",
       "      <td>00000001_001.png</td>\n",
       "      <td>00000001_001_segment1.png</td>\n",
       "      <td>00000001_001_segment2.png</td>\n",
       "      <td>00000001_001_segment3.png</td>\n",
       "      <td>0</td>\n",
       "      <td>1</td>\n",
       "      <td>0</td>\n",
       "      <td>0</td>\n",
       "      <td>0</td>\n",
       "      <td>0</td>\n",
       "      <td>0</td>\n",
       "      <td>0</td>\n",
       "      <td>0</td>\n",
       "      <td>0</td>\n",
       "      <td>1</td>\n",
       "      <td>0</td>\n",
       "      <td>0</td>\n",
       "      <td>0</td>\n",
       "    </tr>\n",
       "    <tr>\n",
       "      <th>2</th>\n",
       "      <td>00000001_002.png</td>\n",
       "      <td>00000001_002_segment1.png</td>\n",
       "      <td>00000001_002_segment2.png</td>\n",
       "      <td>00000001_002_segment3.png</td>\n",
       "      <td>0</td>\n",
       "      <td>1</td>\n",
       "      <td>1</td>\n",
       "      <td>0</td>\n",
       "      <td>0</td>\n",
       "      <td>0</td>\n",
       "      <td>0</td>\n",
       "      <td>0</td>\n",
       "      <td>0</td>\n",
       "      <td>0</td>\n",
       "      <td>0</td>\n",
       "      <td>0</td>\n",
       "      <td>0</td>\n",
       "      <td>0</td>\n",
       "    </tr>\n",
       "  </tbody>\n",
       "</table>\n",
       "</div>"
      ],
      "text/plain": [
       "        Image Index          Filename_Segment1          Filename_Segment2  \\\n",
       "0  00000001_000.png  00000001_000_segment1.png  00000001_000_segment2.png   \n",
       "1  00000001_001.png  00000001_001_segment1.png  00000001_001_segment2.png   \n",
       "2  00000001_002.png  00000001_002_segment1.png  00000001_002_segment2.png   \n",
       "\n",
       "           Filename_Segment3  Atelectasis  Cardiomegaly  Effusion  \\\n",
       "0  00000001_000_segment3.png            0             1         0   \n",
       "1  00000001_001_segment3.png            0             1         0   \n",
       "2  00000001_002_segment3.png            0             1         1   \n",
       "\n",
       "   Infiltration  Mass  Nodule  Pneumonia  Pneumothorax  Consolidation  Edema  \\\n",
       "0             0     0       0          0             0              0      0   \n",
       "1             0     0       0          0             0              0      0   \n",
       "2             0     0       0          0             0              0      0   \n",
       "\n",
       "   Emphysema  Fibrosis  Pleural_Thickening  Hernia  \n",
       "0          0         0                   0       0  \n",
       "1          1         0                   0       0  \n",
       "2          0         0                   0       0  "
      ]
     },
     "execution_count": 4,
     "metadata": {},
     "output_type": "execute_result"
    }
   ],
   "source": [
    "df.head(3)"
   ]
  },
  {
   "cell_type": "markdown",
   "id": "facial-conflict",
   "metadata": {},
   "source": [
    "## D. Modeling"
   ]
  },
  {
   "cell_type": "code",
   "execution_count": 5,
   "id": "least-technician",
   "metadata": {},
   "outputs": [],
   "source": [
    "# Experiment global variables\n",
    "LEARNING_RATE = 1e-3\n",
    "EPOCHS = 3\n",
    "BATCH_SIZE = 64"
   ]
  },
  {
   "cell_type": "markdown",
   "id": "wanted-baking",
   "metadata": {},
   "source": [
    "### Example: Cardiomegaly"
   ]
  },
  {
   "cell_type": "markdown",
   "id": "large-registration",
   "metadata": {},
   "source": [
    "**Pretrain model:** ResNet18; **Image dimension:** 128x128; **Learning rate:** 1e-3; **Batch size:** 64; **Loss function:** CrossEntropyLoss; **Optimizer:** Adam"
   ]
  },
  {
   "cell_type": "code",
   "execution_count": 6,
   "id": "atlantic-montreal",
   "metadata": {},
   "outputs": [],
   "source": [
    "# Step 1: Create the dataset\n",
    "# ---\n",
    "# Please the columns name are 'filename' and 'label' only.\n",
    "# 'filename' column describe the image filename only (e.g. '00000001_0001.png')\n",
    "# 'label' column describe the label of the image (0 for absent and 1 for present)\n",
    "\n",
    "from sklearn.model_selection import train_test_split\n",
    "\n",
    "\n",
    "df_cardiomegaly = df[['Filename_Segment2', 'Cardiomegaly']]\n",
    "df_cardiomegaly = df_cardiomegaly.rename(columns={'Filename_Segment2': 'filename', 'Cardiomegaly': 'label'}, errors='ignore')"
   ]
  },
  {
   "cell_type": "code",
   "execution_count": 7,
   "id": "spoken-integrity",
   "metadata": {},
   "outputs": [
    {
     "data": {
      "text/plain": [
       "<AxesSubplot:xlabel='label', ylabel='count'>"
      ]
     },
     "execution_count": 7,
     "metadata": {},
     "output_type": "execute_result"
    },
    {
     "data": {
      "image/png": "[encoded data removed]",
      "text/plain": [
       "<Figure size 432x288 with 1 Axes>"
      ]
     },
     "metadata": {
      "needs_background": "light"
     },
     "output_type": "display_data"
    }
   ],
   "source": [
    "# Count labels\n",
    "\n",
    "import seaborn as sns\n",
    "\n",
    "\n",
    "sns.countplot(data=df_cardiomegaly, x='label')"
   ]
  },
  {
   "cell_type": "code",
   "execution_count": 8,
   "id": "normal-lying",
   "metadata": {},
   "outputs": [
    {
     "name": "stdout",
     "output_type": "stream",
     "text": [
      "<class 'pandas.core.frame.DataFrame'>\n",
      "Int64Index: 5552 entries, 76162 to 110818\n",
      "Data columns (total 2 columns):\n",
      " #   Column    Non-Null Count  Dtype \n",
      "---  ------    --------------  ----- \n",
      " 0   filename  5552 non-null   object\n",
      " 1   label     5552 non-null   int64 \n",
      "dtypes: int64(1), object(1)\n",
      "memory usage: 130.1+ KB\n"
     ]
    }
   ],
   "source": [
    "# Down sampling\n",
    "\n",
    "import pandas as pd\n",
    "\n",
    "\n",
    "label_1 = df_cardiomegaly[df_cardiomegaly['label'] == 1]\n",
    "label_0 = df_cardiomegaly.sample(n=len(label_1))\n",
    "df_cardiomegaly = pd.concat([label_1, label_0], axis=0)\n",
    "df_cardiomegaly = df_cardiomegaly.sample(frac=1, random_state=0)\n",
    "\n",
    "df_cardiomegaly.info()"
   ]
  },
  {
   "cell_type": "code",
   "execution_count": 9,
   "id": "facial-hometown",
   "metadata": {},
   "outputs": [],
   "source": [
    "# Dataset splitting\n",
    "\n",
    "train_dataset, test_dataset = train_test_split(\n",
    "    df_cardiomegaly, test_size=0.3, random_state=0\n",
    ")\n",
    "\n",
    "train_dataset, val_dataset = train_test_split(\n",
    "    train_dataset, test_size=0.3, random_state=0\n",
    ")"
   ]
  },
  {
   "cell_type": "code",
   "execution_count": 10,
   "id": "grave-concord",
   "metadata": {},
   "outputs": [
    {
     "data": {
      "text/plain": [
       "<AxesSubplot:xlabel='label', ylabel='count'>"
      ]
     },
     "execution_count": 10,
     "metadata": {},
     "output_type": "execute_result"
    },
    {
     "data": {
      "image/png": "[encoded data removed]",
      "text/plain": [
       "<Figure size 432x288 with 1 Axes>"
      ]
     },
     "metadata": {
      "needs_background": "light"
     },
     "output_type": "display_data"
    }
   ],
   "source": [
    "# After resampling\n",
    "\n",
    "import seaborn as sns\n",
    "\n",
    "\n",
    "sns.countplot(data=train_dataset, x='label')"
   ]
  },
  {
   "cell_type": "code",
   "execution_count": 11,
   "id": "removed-childhood",
   "metadata": {},
   "outputs": [],
   "source": [
    "# Step 2: Create the dataloader\n",
    "\n",
    "dataloader = CustomDataLoader(batch_size=BATCH_SIZE, image_path='datasets/data_cxr-images_128x128')\n",
    "\n",
    "train_dataloader = dataloader.create_dataloader(train_dataset)\n",
    "val_dataloader = dataloader.create_dataloader(val_dataset)\n",
    "test_dataloader = dataloader.create_dataloader(test_dataset)"
   ]
  },
  {
   "cell_type": "code",
   "execution_count": 12,
   "id": "empty-australia",
   "metadata": {},
   "outputs": [
    {
     "name": "stdout",
     "output_type": "stream",
     "text": [
      "\n",
      "\n"
     ]
    },
    {
     "name": "stderr",
     "output_type": "stream",
     "text": [
      "/home/jupyter-23521013/.local/lib/python3.7/site-packages/torch/nn/modules/lazy.py:180: UserWarning: Lazy modules are a new feature under heavy development so changes to the API or functionality can happen at any moment.\n",
      "  warnings.warn('Lazy modules are a new feature under heavy development '\n"
     ]
    }
   ],
   "source": [
    "# Step 3: Build the model\n",
    "# ---\n",
    "# Current tested pretrained models: ResNet18, ResNet50\n",
    "\n",
    "from torchvision.models import resnet50, ResNet50_Weights\n",
    "\n",
    "\n",
    "model = build_model(resnet50(weights=ResNet50_Weights.DEFAULT), d_class=2, fine_tuning=True)"
   ]
  },
  {
   "cell_type": "code",
   "execution_count": 13,
   "id": "medical-calibration",
   "metadata": {},
   "outputs": [
    {
     "name": "stdout",
     "output_type": "stream",
     "text": [
      "Using GPU!\n",
      "Device name: Quadro RTX 5000\n"
     ]
    }
   ],
   "source": [
    "# Step 4: Setup the trainer\n",
    "# ---\n",
    "# Supported loss function: CrossEntropyLoss\n",
    "# Supported optimizer: SGD, Adam\n",
    "\n",
    "from torch import device\n",
    "\n",
    "\n",
    "trainer = TrainUtils(model, 'CrossEntropyLoss', 'Adam', learning_rate=LEARNING_RATE, device=device('cuda:0'))"
   ]
  },
  {
   "cell_type": "code",
   "execution_count": 14,
   "id": "through-cargo",
   "metadata": {},
   "outputs": [
    {
     "name": "stdout",
     "output_type": "stream",
     "text": [
      "Begin training!\n",
      "\n",
      "Epoch 1 out of 3\n",
      " ------------\n"
     ]
    },
    {
     "name": "stderr",
     "output_type": "stream",
     "text": [
      "100%|██████████| 43/43 [00:07<00:00,  5.73it/s]\n"
     ]
    },
    {
     "name": "stdout",
     "output_type": "stream",
     "text": [
      "Training time: 7.51 seconds\n"
     ]
    },
    {
     "name": "stderr",
     "output_type": "stream",
     "text": [
      "100%|██████████| 19/19 [00:01<00:00, 11.51it/s]\n"
     ]
    },
    {
     "name": "stdout",
     "output_type": "stream",
     "text": [
      "Validation time: 1.66 seconds\n"
     ]
    },
    {
     "name": "stderr",
     "output_type": "stream",
     "text": [
      "100%|██████████| 27/27 [00:02<00:00, 11.12it/s]\n"
     ]
    },
    {
     "name": "stdout",
     "output_type": "stream",
     "text": [
      "Testing time: 2.43 seconds\n",
      "Model model-resnet18_dim-128x128_loss-crossentropy_optim-adam_lr-0.001_batch-64.pth stored!\n",
      "\n",
      "Epoch 2 out of 3\n",
      " ------------\n"
     ]
    },
    {
     "name": "stderr",
     "output_type": "stream",
     "text": [
      "100%|██████████| 43/43 [00:05<00:00,  7.25it/s]\n"
     ]
    },
    {
     "name": "stdout",
     "output_type": "stream",
     "text": [
      "Training time: 5.94 seconds\n"
     ]
    },
    {
     "name": "stderr",
     "output_type": "stream",
     "text": [
      "100%|██████████| 19/19 [00:01<00:00, 11.95it/s]\n"
     ]
    },
    {
     "name": "stdout",
     "output_type": "stream",
     "text": [
      "Validation time: 1.60 seconds\n"
     ]
    },
    {
     "name": "stderr",
     "output_type": "stream",
     "text": [
      "100%|██████████| 27/27 [00:02<00:00, 11.80it/s]\n"
     ]
    },
    {
     "name": "stdout",
     "output_type": "stream",
     "text": [
      "Testing time: 2.29 seconds\n",
      "Model model-resnet18_dim-128x128_loss-crossentropy_optim-adam_lr-0.001_batch-64.pth stored!\n",
      "\n",
      "Epoch 3 out of 3\n",
      " ------------\n"
     ]
    },
    {
     "name": "stderr",
     "output_type": "stream",
     "text": [
      "100%|██████████| 43/43 [00:06<00:00,  6.89it/s]\n"
     ]
    },
    {
     "name": "stdout",
     "output_type": "stream",
     "text": [
      "Training time: 6.24 seconds\n"
     ]
    },
    {
     "name": "stderr",
     "output_type": "stream",
     "text": [
      "100%|██████████| 19/19 [00:01<00:00, 11.65it/s]\n"
     ]
    },
    {
     "name": "stdout",
     "output_type": "stream",
     "text": [
      "\n",
      "Confusion matrix:\n",
      "[[277 278]\n",
      " [ 62 549]]\n",
      "\n",
      "Classification report:\n",
      "              precision    recall  f1-score   support\n",
      "\n",
      "           0       0.82      0.50      0.62       555\n",
      "           1       0.66      0.90      0.76       611\n",
      "\n",
      "    accuracy                           0.71      1166\n",
      "   macro avg       0.74      0.70      0.69      1166\n",
      "weighted avg       0.74      0.71      0.70      1166\n",
      "\n",
      "Validation time: 1.65 seconds\n"
     ]
    },
    {
     "name": "stderr",
     "output_type": "stream",
     "text": [
      "100%|██████████| 27/27 [00:02<00:00, 11.43it/s]\n"
     ]
    },
    {
     "name": "stdout",
     "output_type": "stream",
     "text": [
      "\n",
      "Confusion matrix:\n",
      "[[419 416]\n",
      " [ 88 743]]\n",
      "\n",
      "Classification report:\n",
      "              precision    recall  f1-score   support\n",
      "\n",
      "           0       0.83      0.50      0.62       835\n",
      "           1       0.64      0.89      0.75       831\n",
      "\n",
      "    accuracy                           0.70      1666\n",
      "   macro avg       0.73      0.70      0.69      1666\n",
      "weighted avg       0.73      0.70      0.69      1666\n",
      "\n",
      "Testing time: 2.38 seconds\n",
      "Model model-resnet18_dim-128x128_loss-crossentropy_optim-adam_lr-0.001_batch-64.pth stored!\n",
      "\n"
     ]
    },
    {
     "data": {
      "image/png": "[encoded data removed]",
      "text/plain": [
       "<Figure size 432x288 with 1 Axes>"
      ]
     },
     "metadata": {
      "needs_background": "light"
     },
     "output_type": "display_data"
    },
    {
     "name": "stdout",
     "output_type": "stream",
     "text": [
      "Train report:\n",
      "Last train accuracy: 0.708\n",
      "Last test accuracy: 0.697\n",
      "\n",
      "Done!\n"
     ]
    }
   ],
   "source": [
    "# Step 5: Train the model using train_wrapper function\n",
    "\n",
    "experiment_name = f'model-resnet18_dim-128x128_loss-crossentropy_optim-adam_lr-{LEARNING_RATE}_batch-{BATCH_SIZE}.pth'\n",
    "\n",
    "train_wrapper(trainer,\n",
    "              train_dataloader=train_dataloader,\n",
    "              val_dataloader=val_dataloader,\n",
    "              test_dataloader=test_dataloader,\n",
    "              epochs=EPOCHS,\n",
    "              saved_model_filename=experiment_name)"
   ]
  },
  {
   "cell_type": "code",
   "execution_count": null,
   "id": "checked-romance",
   "metadata": {},
   "outputs": [],
   "source": []
  }
 ],
 "metadata": {
  "kernelspec": {
   "display_name": "Python 3",
   "language": "python",
   "name": "python3"
  },
  "language_info": {
   "codemirror_mode": {
    "name": "ipython",
    "version": 3
   },
   "file_extension": ".py",
   "mimetype": "text/x-python",
   "name": "python",
   "nbconvert_exporter": "python",
   "pygments_lexer": "ipython3",
   "version": "3.7.9"
  }
 },
 "nbformat": 4,
 "nbformat_minor": 5
}
