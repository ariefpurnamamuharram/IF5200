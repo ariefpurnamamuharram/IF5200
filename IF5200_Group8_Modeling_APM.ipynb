{
 "cells": [
  {
   "cell_type": "markdown",
   "id": "adaptive-possible",
   "metadata": {},
   "source": [
    "# IF5200 - Modeling Notebook\n",
    "___\n",
    "Group<t>: 8<br>\n",
    "Project: Automated Chest X-Ray Report Generator in Bahasa Indonesia with the Use of Deep Learning"
   ]
  },
  {
   "cell_type": "markdown",
   "id": "fleet-tourist",
   "metadata": {},
   "source": [
    "## A. Print library version"
   ]
  },
  {
   "cell_type": "code",
   "execution_count": 1,
   "id": "taken-clothing",
   "metadata": {},
   "outputs": [
    {
     "name": "stdout",
     "output_type": "stream",
     "text": [
      "tqdm version: 4.64.1\n",
      "pandas version: 1.3.5\n",
      "pillow version: 9.4.0\n",
      "torch version: 1.13.1+cu117\n",
      "torchvision version: 0.14.1+cu117\n"
     ]
    }
   ],
   "source": [
    "print('tqdm version:', __import__('tqdm').__version__)\n",
    "print('pandas version:', __import__('pandas').__version__)\n",
    "print('pillow version:', __import__('PIL').__version__)\n",
    "print('torch version:', __import__('torch').__version__)\n",
    "print('torchvision version:', __import__('torchvision').__version__)"
   ]
  },
  {
   "cell_type": "markdown",
   "id": "devoted-computer",
   "metadata": {},
   "source": [
    "## B. Helper functions"
   ]
  },
  {
   "cell_type": "markdown",
   "id": "changing-first",
   "metadata": {},
   "source": [
    "### 1. TrainUtils"
   ]
  },
  {
   "cell_type": "code",
   "execution_count": 2,
   "id": "inside-blackberry",
   "metadata": {},
   "outputs": [],
   "source": [
    "import torch\n",
    "from torch import nn\n",
    "from torch import optim\n",
    "from tqdm import tqdm\n",
    "\n",
    "\n",
    "class TrainUtils:\n",
    "    \n",
    "    def __init__(self, model, \n",
    "                 loss_fn: str, \n",
    "                 optimizer: str, \n",
    "                 learning_rate: float = 1e-3, \n",
    "                 device: str = None):\n",
    "        \n",
    "        super(TrainUtils, self).__init__()\n",
    "        \n",
    "        # Supported loss function\n",
    "        supported_loss_fn = {\n",
    "            'CrossEntropyLoss': nn.CrossEntropyLoss()\n",
    "        }\n",
    "        \n",
    "        # Supported optimizer\n",
    "        supported_optimizer = {\n",
    "            'SGD': optim.SGD(model.parameters(), lr=learning_rate),\n",
    "            'Adam': optim.Adam(model.parameters(), lr=learning_rate)\n",
    "        }  \n",
    "        \n",
    "        # Set model\n",
    "        self.model = model\n",
    "        \n",
    "        # Set loss function\n",
    "        if loss_fn not in supported_loss_fn:\n",
    "            raise ValueError('Loss function is not supported!')\n",
    "        else:\n",
    "            self.loss_fn = supported_loss_fn[loss_fn]\n",
    "        \n",
    "        # Set optimizer\n",
    "        if optimizer not in supported_optimizer:\n",
    "            raise ValueError('Optimizer is not supported!')\n",
    "        else:\n",
    "            self.optimizer = supported_optimizer[optimizer]\n",
    "        \n",
    "        # Set device\n",
    "        if device is not None:\n",
    "            self.device = device\n",
    "            print('Using GPU!\\n')\n",
    "        else:\n",
    "            self.device = 'cpu'\n",
    "            print('Using CPU!\\n')\n",
    "\n",
    "    def train(self, dataloader, \n",
    "              print_log: bool = False):\n",
    "        \n",
    "        model = self.model\n",
    "        loss_fn = self.loss_fn\n",
    "        optimizer = self.optimizer\n",
    "        device = self.device\n",
    "        \n",
    "        loss_history = []\n",
    "        \n",
    "        for batch, (X, y) in enumerate(tqdm(dataloader)):\n",
    "            # Switch to train mode\n",
    "            model.train()\n",
    "            \n",
    "            # Send tensors to the device\n",
    "            X, y, model = X.to(device), y.to(device), model.to(device)\n",
    "            \n",
    "            # Compute loss (error)\n",
    "            pred = model(X)\n",
    "            loss = loss_fn(pred, y)\n",
    "            \n",
    "            # Backpropagation\n",
    "            optimizer.zero_grad()\n",
    "            loss.backward()\n",
    "            optimizer.step()\n",
    "            \n",
    "            # Append batch loss history\n",
    "            if batch % 100 == 0:\n",
    "                loss_history.append([batch, loss])\n",
    "                \n",
    "        # Print loss history\n",
    "        if print_log == True:\n",
    "            print('Loss over batches:')\n",
    "            print(' Batch\\tLoss')\n",
    "            for item in loss_history:\n",
    "                print(f' {item[0]}\\t{item[1]:>7f}')\n",
    "    \n",
    "        # Return loss history\n",
    "        return (loss_history)\n",
    "\n",
    "    def test(self, dataloader, print_log=False):\n",
    "        \n",
    "        model = self.model\n",
    "        loss_fn = self.loss_fn\n",
    "        device = self.device\n",
    "        \n",
    "        size = len(dataloader.dataset)\n",
    "        num_batches = len(dataloader)\n",
    "        \n",
    "        # Switch to eval mode\n",
    "        model.eval()\n",
    "        \n",
    "        test_loss, correct = 0, 0\n",
    "        \n",
    "        with torch.no_grad():\n",
    "            for X, y in tqdm(dataloader):\n",
    "                # Send tensors to the device\n",
    "                X, y, model = X.to(device), y.to(device), model.to(device)\n",
    "                \n",
    "                # Make prediction\n",
    "                pred = model(X)\n",
    "            \n",
    "                test_loss += loss_fn(pred, y).item()\n",
    "                correct += (pred.argmax(1) == y).type(torch.float).sum().item()\n",
    "    \n",
    "        test_loss /= num_batches\n",
    "        correct /= size\n",
    "        \n",
    "        # Print test accuracy and test lost\n",
    "        if print_log == True:\n",
    "            print(f'Test Error: \\n Accuracy: {(100*correct):>0.1f}%, Avg loss: {test_loss:>8f}')\n",
    "        \n",
    "        # Return test accuracy\n",
    "        return (correct)"
   ]
  },
  {
   "cell_type": "markdown",
   "id": "stable-study",
   "metadata": {},
   "source": [
    "### 2. ModelUtils"
   ]
  },
  {
   "cell_type": "code",
   "execution_count": 5,
   "id": "electric-indian",
   "metadata": {},
   "outputs": [],
   "source": [
    "from torch import nn\n",
    "from torchvision.models import resnet18, resnet50, ResNet18_Weights, ResNet50_Weights\n"
   ]
  },
  {
   "cell_type": "code",
   "execution_count": null,
   "id": "veterinary-gilbert",
   "metadata": {},
   "outputs": [],
   "source": []
  }
 ],
 "metadata": {
  "kernelspec": {
   "display_name": "Python 3",
   "language": "python",
   "name": "python3"
  },
  "language_info": {
   "codemirror_mode": {
    "name": "ipython",
    "version": 3
   },
   "file_extension": ".py",
   "mimetype": "text/x-python",
   "name": "python",
   "nbconvert_exporter": "python",
   "pygments_lexer": "ipython3",
   "version": "3.7.9"
  }
 },
 "nbformat": 4,
 "nbformat_minor": 5
}
